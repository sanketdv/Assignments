{
 "cells": [
  {
   "cell_type": "markdown",
   "id": "ad8e68ac",
   "metadata": {},
   "source": [
    "#### Learn and code examples that demonstrate your understanding in foll areas -\n",
    "- Variable args and Keyword based args\n",
    "- List comprehension\n",
    "- F strings, various formatters\n",
    "- Dunder methods (init, format, str and more - find out their purpose and more such dunder methods)\n",
    "- Decorators\n",
    "- Modules, init.py purpose"
   ]
  },
  {
   "cell_type": "markdown",
   "id": "d65c6542",
   "metadata": {},
   "source": []
  },
  {
   "cell_type": "markdown",
   "id": "cb229fbe",
   "metadata": {},
   "source": [
    "Variable args for summation of factorials of the numbers."
   ]
  },
  {
   "cell_type": "code",
   "execution_count": 13,
   "id": "f24ea566",
   "metadata": {},
   "outputs": [
    {
     "name": "stdout",
     "output_type": "stream",
     "text": [
      "864\n"
     ]
    }
   ],
   "source": [
    "def factorial(n):\n",
    "    if n==1:\n",
    "        return n\n",
    "    else:\n",
    "        return n*factorial(n-1)\n",
    "\n",
    "\n",
    "def sum_fact_numbers(*args):\n",
    "    total=0\n",
    "    for num in args:\n",
    "        total += factorial(num)\n",
    "    return total\n",
    "\n",
    "print(sum_fact_numbers(4,5,6))\n"
   ]
  },
  {
   "cell_type": "markdown",
   "id": "4d720851",
   "metadata": {},
   "source": []
  },
  {
   "cell_type": "markdown",
   "id": "a2e54d1e",
   "metadata": {},
   "source": [
    "Keyword based args for university student information. "
   ]
  },
  {
   "cell_type": "code",
   "execution_count": 14,
   "id": "2b59065f",
   "metadata": {},
   "outputs": [
    {
     "name": "stdout",
     "output_type": "stream",
     "text": [
      "s_id: 2023100421\n",
      "s_name: Ujjwal Gupta\n",
      "s_area: Computer Science\n",
      "s_year: 2nd year\n"
     ]
    }
   ],
   "source": [
    "def print_student_info(**kwargs):\n",
    "    for key,value in kwargs.items():\n",
    "        print(f\"{key}: {value}\")\n",
    "\n",
    "print_student_info(s_id=\"2023100421\",s_name=\"Ujjwal Gupta\",s_area=\"Computer Science\",s_year=\"2nd year\")"
   ]
  },
  {
   "cell_type": "markdown",
   "id": "3a926eff",
   "metadata": {},
   "source": []
  },
  {
   "cell_type": "markdown",
   "id": "4915b985",
   "metadata": {},
   "source": [
    "List Comprehension to get the square of all prime numbers in the list."
   ]
  },
  {
   "cell_type": "code",
   "execution_count": 15,
   "id": "c1d0285e",
   "metadata": {},
   "outputs": [
    {
     "name": "stdout",
     "output_type": "stream",
     "text": [
      "[4, 9, 25, 49, 121, 169, 289, 361]\n"
     ]
    }
   ],
   "source": [
    "def isPrime(n):\n",
    "    if n<2:\n",
    "        return 0\n",
    "    elif n==2 or n==3:\n",
    "        return 1\n",
    "    else:\n",
    "        for i in range(2,n-1):\n",
    "            if n%i==0:\n",
    "                return 0\n",
    "\n",
    "        return 1\n",
    "\n",
    "\n",
    "number = [1, 2, 3, 4, 5, 6, 7, 8, 9, 10, 11, 12, 13, 14, 15, 16, 17, 18, 19, 20]\n",
    "prime_squares = [x**2 for x in number if isPrime(x)==1]\n",
    "print(prime_squares)    "
   ]
  },
  {
   "cell_type": "markdown",
   "id": "256f4ce5",
   "metadata": {},
   "source": []
  },
  {
   "cell_type": "markdown",
   "id": "1c651b5a",
   "metadata": {},
   "source": [
    "From F String and Various Formatters, I've chosen String(Name) and Int(Score)."
   ]
  },
  {
   "cell_type": "code",
   "execution_count": 16,
   "id": "bc5e6150",
   "metadata": {},
   "outputs": [
    {
     "name": "stdout",
     "output_type": "stream",
     "text": [
      "Name       |  Score\n",
      "--------------------\n",
      "Alpha      |   9.33\n",
      "Bravo      |   8.72\n",
      "Charlie    |   8.21\n"
     ]
    }
   ],
   "source": [
    "data = [\n",
    "    {\"name\": \"Alpha\", \"score\":9.33},\n",
    "    {\"name\": \"Bravo\", \"score\":8.72},\n",
    "    {\"name\": \"Charlie\", \"score\":8.21}\n",
    "]\n",
    "\n",
    "print(f\"{'Name':<10} | {'Score':>6}\")\n",
    "print(\"-\"*20)\n",
    "\n",
    "for item in data:\n",
    "    name = item[\"name\"]\n",
    "    score = item[\"score\"]\n",
    "    print(f\"{name:<10} | {score:>6.2f}\")"
   ]
  },
  {
   "cell_type": "markdown",
   "id": "cb13a3ab",
   "metadata": {},
   "source": []
  },
  {
   "cell_type": "markdown",
   "id": "1779d823",
   "metadata": {},
   "source": [
    "Dunder here means Double Under (underscores). They are the methods starting and ending with double underscores. They are defined by built-in classes in Python. Here used some of it. They are init, str, len, getitem, repr, add."
   ]
  },
  {
   "cell_type": "code",
   "execution_count": 17,
   "id": "a51c8a87",
   "metadata": {},
   "outputs": [
    {
     "name": "stdout",
     "output_type": "stream",
     "text": [
      "Book: Designing Data Intensive Application\n",
      "82\n",
      "False\n",
      "Book('The Element of Styles',82)\n",
      "182\n",
      "Page 50\n"
     ]
    }
   ],
   "source": [
    "class DunderList:\n",
    "    def __init__(self,title,pages):\n",
    "        self.title=title\n",
    "        self.pages=pages\n",
    "        self.content=[f\"Page {i+1}\" for i in range(pages)]\n",
    "    \n",
    "    def __str__(self):\n",
    "        return f\"Book: {self.title}\"\n",
    "    \n",
    "    def __len__(self):\n",
    "        return self.pages\n",
    "    \n",
    "    def __getitem__(self,index):\n",
    "        return self.content[index]\n",
    "    \n",
    "    def __eq__(self, other):\n",
    "        return self.pages==other.pages\n",
    "    \n",
    "    def __repr__(self):\n",
    "        return f\"Book('{self.title}',{self.pages})\"\n",
    "    \n",
    "    def __add__(self,other):\n",
    "        return self.pages+other.pages\n",
    "    \n",
    "    \n",
    "\n",
    "book1 = DunderList(\"Designing Data Intensive Application\", 100)\n",
    "book2 = DunderList(\"The Element of Styles\", 82)\n",
    "\n",
    "print(book1)\n",
    "print(len(book2))\n",
    "print(book1 == book2)\n",
    "print(repr(book2))\n",
    "print(book1+book2)\n",
    "print(book2[49])"
   ]
  },
  {
   "cell_type": "markdown",
   "id": "3d7d62e8",
   "metadata": {},
   "source": []
  },
  {
   "cell_type": "markdown",
   "id": "100a7e8b",
   "metadata": {},
   "source": [
    "Decorators are a powerful and flexible way to modify or extend behavior of functions or methods without changing their actual codes."
   ]
  },
  {
   "cell_type": "code",
   "execution_count": 22,
   "id": "2e5e71ba",
   "metadata": {},
   "outputs": [
    {
     "name": "stdout",
     "output_type": "stream",
     "text": [
      "64\n",
      "False\n",
      "True\n"
     ]
    }
   ],
   "source": [
    "def decorator(f,x):\n",
    "    return f(x)\n",
    "\n",
    "def cube(x):\n",
    "    return x**3\n",
    "\n",
    "def isStrobogrammatic(x):\n",
    "    map = {'0':'0','1':'1','6':'9','8':'8','9':'6'}\n",
    "    num_str=str(x)\n",
    "    left=0\n",
    "    right=len(num_str)-1\n",
    "    while left<=right:\n",
    "        if num_str[left] not in map or map.get(num_str[left]) != num_str[right]:\n",
    "            return False\n",
    "        left += 1\n",
    "        right -= 1\n",
    "\n",
    "    return True\n",
    "\n",
    "def isArmstrong(x):\n",
    "    temp1=x\n",
    "    number_of_digits=0\n",
    "    while temp1 != 0:\n",
    "        temp1 //= 10\n",
    "        number_of_digits += 1 \n",
    "    \n",
    "    ans=0\n",
    "    temp_number=x\n",
    "    while temp_number!=0:\n",
    "        unit_place=temp_number%10\n",
    "        ans += unit_place ** number_of_digits\n",
    "        temp_number = temp_number // 10\n",
    "\n",
    "    return x == ans\n",
    "\n",
    "\n",
    "print(decorator(cube,4))\n",
    "print(decorator(isStrobogrammatic,646))\n",
    "print(decorator(isArmstrong,153))"
   ]
  }
 ],
 "metadata": {
  "kernelspec": {
   "display_name": ".venv",
   "language": "python",
   "name": "python3"
  },
  "language_info": {
   "codemirror_mode": {
    "name": "ipython",
    "version": 3
   },
   "file_extension": ".py",
   "mimetype": "text/x-python",
   "name": "python",
   "nbconvert_exporter": "python",
   "pygments_lexer": "ipython3",
   "version": "3.12.3"
  }
 },
 "nbformat": 4,
 "nbformat_minor": 5
}
